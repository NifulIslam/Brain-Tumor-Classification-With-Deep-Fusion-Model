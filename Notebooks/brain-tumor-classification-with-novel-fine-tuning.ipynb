{
 "cells": [
  {
   "cell_type": "code",
   "execution_count": 1,
   "id": "9070103f",
   "metadata": {
    "_cell_guid": "b1076dfc-b9ad-4769-8c92-a6c4dae69d19",
    "_uuid": "8f2839f25d086af736a60e9eeb907d3b93b6e0e5",
    "execution": {
     "iopub.execute_input": "2023-08-23T07:04:50.092310Z",
     "iopub.status.busy": "2023-08-23T07:04:50.091898Z",
     "iopub.status.idle": "2023-08-23T07:04:57.252117Z",
     "shell.execute_reply": "2023-08-23T07:04:57.251120Z"
    },
    "papermill": {
     "duration": 7.17546,
     "end_time": "2023-08-23T07:04:57.254804",
     "exception": false,
     "start_time": "2023-08-23T07:04:50.079344",
     "status": "completed"
    },
    "tags": []
   },
   "outputs": [
    {
     "name": "stderr",
     "output_type": "stream",
     "text": [
      "/opt/conda/lib/python3.10/site-packages/scipy/__init__.py:146: UserWarning: A NumPy version >=1.16.5 and <1.23.0 is required for this version of SciPy (detected version 1.23.5\n",
      "  warnings.warn(f\"A NumPy version >={np_minversion} and <{np_maxversion}\"\n"
     ]
    }
   ],
   "source": [
    "import numpy as np \n",
    "import pandas as pd \n",
    "import os\n",
    "import cv2\n",
    "from PIL import Image\n",
    "from matplotlib import pyplot as plt\n",
    "from tensorflow.keras.models import Model\n",
    "from tensorflow.keras.preprocessing import image\n",
    "from tensorflow.keras.preprocessing.image import ImageDataGenerator\n",
    "from tensorflow.keras.models import Sequential\n",
    "import tensorflow as tf \n",
    "from tensorflow.keras.layers import Dense, Dropout, Flatten, Conv2D, MaxPool2D, BatchNormalization,MaxPooling2D,BatchNormalization,\\\n",
    "                         GlobalAveragePooling2D, SeparableConv2D,\\\n",
    "ZeroPadding2D, Convolution2D, ZeroPadding2D, Conv2DTranspose,ReLU, UpSampling2D, Concatenate, Conv2DTranspose"
   ]
  },
  {
   "cell_type": "markdown",
   "id": "8618d970",
   "metadata": {
    "papermill": {
     "duration": 0.008732,
     "end_time": "2023-08-23T07:04:57.272809",
     "exception": false,
     "start_time": "2023-08-23T07:04:57.264077",
     "status": "completed"
    },
    "tags": []
   },
   "source": [
    "# converting into dataframe"
   ]
  },
  {
   "cell_type": "code",
   "execution_count": 2,
   "id": "444db911",
   "metadata": {
    "execution": {
     "iopub.execute_input": "2023-08-23T07:04:57.292055Z",
     "iopub.status.busy": "2023-08-23T07:04:57.291445Z",
     "iopub.status.idle": "2023-08-23T07:04:58.009981Z",
     "shell.execute_reply": "2023-08-23T07:04:58.008940Z"
    },
    "papermill": {
     "duration": 0.73078,
     "end_time": "2023-08-23T07:04:58.012370",
     "exception": false,
     "start_time": "2023-08-23T07:04:57.281590",
     "status": "completed"
    },
    "tags": []
   },
   "outputs": [],
   "source": [
    "root='/kaggle/input/brain-tumor/'\n",
    "data={}\n",
    "for class_ in os.listdir(root):\n",
    "    for image in os.listdir(root+class_):\n",
    "        data[root+class_+'/'+image]=class_"
   ]
  },
  {
   "cell_type": "code",
   "execution_count": 3,
   "id": "c2269436",
   "metadata": {
    "execution": {
     "iopub.execute_input": "2023-08-23T07:04:58.031849Z",
     "iopub.status.busy": "2023-08-23T07:04:58.031537Z",
     "iopub.status.idle": "2023-08-23T07:04:58.060450Z",
     "shell.execute_reply": "2023-08-23T07:04:58.059609Z"
    },
    "papermill": {
     "duration": 0.040819,
     "end_time": "2023-08-23T07:04:58.062449",
     "exception": false,
     "start_time": "2023-08-23T07:04:58.021630",
     "status": "completed"
    },
    "tags": []
   },
   "outputs": [
    {
     "data": {
      "text/html": [
       "<div>\n",
       "<style scoped>\n",
       "    .dataframe tbody tr th:only-of-type {\n",
       "        vertical-align: middle;\n",
       "    }\n",
       "\n",
       "    .dataframe tbody tr th {\n",
       "        vertical-align: top;\n",
       "    }\n",
       "\n",
       "    .dataframe thead th {\n",
       "        text-align: right;\n",
       "    }\n",
       "</style>\n",
       "<table border=\"1\" class=\"dataframe\">\n",
       "  <thead>\n",
       "    <tr style=\"text-align: right;\">\n",
       "      <th></th>\n",
       "      <th>path</th>\n",
       "      <th>class_</th>\n",
       "    </tr>\n",
       "  </thead>\n",
       "  <tbody>\n",
       "    <tr>\n",
       "      <th>801</th>\n",
       "      <td>/kaggle/input/brain-tumor/2/782.png</td>\n",
       "      <td>2</td>\n",
       "    </tr>\n",
       "    <tr>\n",
       "      <th>25</th>\n",
       "      <td>/kaggle/input/brain-tumor/2/1948.png</td>\n",
       "      <td>2</td>\n",
       "    </tr>\n",
       "    <tr>\n",
       "      <th>340</th>\n",
       "      <td>/kaggle/input/brain-tumor/2/1925.png</td>\n",
       "      <td>2</td>\n",
       "    </tr>\n",
       "    <tr>\n",
       "      <th>1071</th>\n",
       "      <td>/kaggle/input/brain-tumor/2/461.png</td>\n",
       "      <td>2</td>\n",
       "    </tr>\n",
       "    <tr>\n",
       "      <th>238</th>\n",
       "      <td>/kaggle/input/brain-tumor/2/796.png</td>\n",
       "      <td>2</td>\n",
       "    </tr>\n",
       "    <tr>\n",
       "      <th>...</th>\n",
       "      <td>...</td>\n",
       "      <td>...</td>\n",
       "    </tr>\n",
       "    <tr>\n",
       "      <th>2847</th>\n",
       "      <td>/kaggle/input/brain-tumor/1/3037.png</td>\n",
       "      <td>1</td>\n",
       "    </tr>\n",
       "    <tr>\n",
       "      <th>1019</th>\n",
       "      <td>/kaggle/input/brain-tumor/2/1310.png</td>\n",
       "      <td>2</td>\n",
       "    </tr>\n",
       "    <tr>\n",
       "      <th>2653</th>\n",
       "      <td>/kaggle/input/brain-tumor/1/2811.png</td>\n",
       "      <td>1</td>\n",
       "    </tr>\n",
       "    <tr>\n",
       "      <th>547</th>\n",
       "      <td>/kaggle/input/brain-tumor/2/1311.png</td>\n",
       "      <td>2</td>\n",
       "    </tr>\n",
       "    <tr>\n",
       "      <th>2164</th>\n",
       "      <td>/kaggle/input/brain-tumor/3/2070.png</td>\n",
       "      <td>3</td>\n",
       "    </tr>\n",
       "  </tbody>\n",
       "</table>\n",
       "<p>3064 rows × 2 columns</p>\n",
       "</div>"
      ],
      "text/plain": [
       "                                      path class_\n",
       "801    /kaggle/input/brain-tumor/2/782.png      2\n",
       "25    /kaggle/input/brain-tumor/2/1948.png      2\n",
       "340   /kaggle/input/brain-tumor/2/1925.png      2\n",
       "1071   /kaggle/input/brain-tumor/2/461.png      2\n",
       "238    /kaggle/input/brain-tumor/2/796.png      2\n",
       "...                                    ...    ...\n",
       "2847  /kaggle/input/brain-tumor/1/3037.png      1\n",
       "1019  /kaggle/input/brain-tumor/2/1310.png      2\n",
       "2653  /kaggle/input/brain-tumor/1/2811.png      1\n",
       "547   /kaggle/input/brain-tumor/2/1311.png      2\n",
       "2164  /kaggle/input/brain-tumor/3/2070.png      3\n",
       "\n",
       "[3064 rows x 2 columns]"
      ]
     },
     "execution_count": 3,
     "metadata": {},
     "output_type": "execute_result"
    }
   ],
   "source": [
    "data=pd.DataFrame(data.items(),columns=['path','class_'])\n",
    "data=data.sample(frac=1)\n",
    "data"
   ]
  },
  {
   "cell_type": "code",
   "execution_count": 4,
   "id": "7997b70e",
   "metadata": {
    "execution": {
     "iopub.execute_input": "2023-08-23T07:04:58.082199Z",
     "iopub.status.busy": "2023-08-23T07:04:58.081450Z",
     "iopub.status.idle": "2023-08-23T07:04:58.095562Z",
     "shell.execute_reply": "2023-08-23T07:04:58.094719Z"
    },
    "papermill": {
     "duration": 0.02594,
     "end_time": "2023-08-23T07:04:58.097518",
     "exception": false,
     "start_time": "2023-08-23T07:04:58.071578",
     "status": "completed"
    },
    "tags": []
   },
   "outputs": [
    {
     "data": {
      "text/html": [
       "<div>\n",
       "<style scoped>\n",
       "    .dataframe tbody tr th:only-of-type {\n",
       "        vertical-align: middle;\n",
       "    }\n",
       "\n",
       "    .dataframe tbody tr th {\n",
       "        vertical-align: top;\n",
       "    }\n",
       "\n",
       "    .dataframe thead th {\n",
       "        text-align: right;\n",
       "    }\n",
       "</style>\n",
       "<table border=\"1\" class=\"dataframe\">\n",
       "  <thead>\n",
       "    <tr style=\"text-align: right;\">\n",
       "      <th></th>\n",
       "      <th>path</th>\n",
       "      <th>class_</th>\n",
       "    </tr>\n",
       "  </thead>\n",
       "  <tbody>\n",
       "    <tr>\n",
       "      <th>801</th>\n",
       "      <td>/kaggle/input/brain-tumor/2/782.png</td>\n",
       "      <td>glioma</td>\n",
       "    </tr>\n",
       "    <tr>\n",
       "      <th>25</th>\n",
       "      <td>/kaggle/input/brain-tumor/2/1948.png</td>\n",
       "      <td>glioma</td>\n",
       "    </tr>\n",
       "    <tr>\n",
       "      <th>340</th>\n",
       "      <td>/kaggle/input/brain-tumor/2/1925.png</td>\n",
       "      <td>glioma</td>\n",
       "    </tr>\n",
       "    <tr>\n",
       "      <th>1071</th>\n",
       "      <td>/kaggle/input/brain-tumor/2/461.png</td>\n",
       "      <td>glioma</td>\n",
       "    </tr>\n",
       "    <tr>\n",
       "      <th>238</th>\n",
       "      <td>/kaggle/input/brain-tumor/2/796.png</td>\n",
       "      <td>glioma</td>\n",
       "    </tr>\n",
       "    <tr>\n",
       "      <th>...</th>\n",
       "      <td>...</td>\n",
       "      <td>...</td>\n",
       "    </tr>\n",
       "    <tr>\n",
       "      <th>2847</th>\n",
       "      <td>/kaggle/input/brain-tumor/1/3037.png</td>\n",
       "      <td>meningioma</td>\n",
       "    </tr>\n",
       "    <tr>\n",
       "      <th>1019</th>\n",
       "      <td>/kaggle/input/brain-tumor/2/1310.png</td>\n",
       "      <td>glioma</td>\n",
       "    </tr>\n",
       "    <tr>\n",
       "      <th>2653</th>\n",
       "      <td>/kaggle/input/brain-tumor/1/2811.png</td>\n",
       "      <td>meningioma</td>\n",
       "    </tr>\n",
       "    <tr>\n",
       "      <th>547</th>\n",
       "      <td>/kaggle/input/brain-tumor/2/1311.png</td>\n",
       "      <td>glioma</td>\n",
       "    </tr>\n",
       "    <tr>\n",
       "      <th>2164</th>\n",
       "      <td>/kaggle/input/brain-tumor/3/2070.png</td>\n",
       "      <td>pituitary</td>\n",
       "    </tr>\n",
       "  </tbody>\n",
       "</table>\n",
       "<p>3064 rows × 2 columns</p>\n",
       "</div>"
      ],
      "text/plain": [
       "                                      path      class_\n",
       "801    /kaggle/input/brain-tumor/2/782.png      glioma\n",
       "25    /kaggle/input/brain-tumor/2/1948.png      glioma\n",
       "340   /kaggle/input/brain-tumor/2/1925.png      glioma\n",
       "1071   /kaggle/input/brain-tumor/2/461.png      glioma\n",
       "238    /kaggle/input/brain-tumor/2/796.png      glioma\n",
       "...                                    ...         ...\n",
       "2847  /kaggle/input/brain-tumor/1/3037.png  meningioma\n",
       "1019  /kaggle/input/brain-tumor/2/1310.png      glioma\n",
       "2653  /kaggle/input/brain-tumor/1/2811.png  meningioma\n",
       "547   /kaggle/input/brain-tumor/2/1311.png      glioma\n",
       "2164  /kaggle/input/brain-tumor/3/2070.png   pituitary\n",
       "\n",
       "[3064 rows x 2 columns]"
      ]
     },
     "execution_count": 4,
     "metadata": {},
     "output_type": "execute_result"
    }
   ],
   "source": [
    "data['class_']=data['class_'].map({ '1': 'meningioma', '2': 'glioma', '3':'pituitary', })\n",
    "data"
   ]
  },
  {
   "cell_type": "markdown",
   "id": "1b556285",
   "metadata": {
    "papermill": {
     "duration": 0.009344,
     "end_time": "2023-08-23T07:04:58.117141",
     "exception": false,
     "start_time": "2023-08-23T07:04:58.107797",
     "status": "completed"
    },
    "tags": []
   },
   "source": [
    "# data visualization"
   ]
  },
  {
   "cell_type": "code",
   "execution_count": 5,
   "id": "3d98333f",
   "metadata": {
    "execution": {
     "iopub.execute_input": "2023-08-23T07:04:58.137221Z",
     "iopub.status.busy": "2023-08-23T07:04:58.136952Z",
     "iopub.status.idle": "2023-08-23T07:04:58.281809Z",
     "shell.execute_reply": "2023-08-23T07:04:58.280945Z"
    },
    "papermill": {
     "duration": 0.158601,
     "end_time": "2023-08-23T07:04:58.285012",
     "exception": false,
     "start_time": "2023-08-23T07:04:58.126411",
     "status": "completed"
    },
    "tags": []
   },
   "outputs": [
    {
     "data": {
      "image/png": "[encoded data removed]",
      "text/plain": [
       "<Figure size 640x480 with 1 Axes>"
      ]
     },
     "metadata": {},
     "output_type": "display_data"
    }
   ],
   "source": [
    "_,_,autotexts=plt.pie(data[\"class_\"].value_counts(), labels=data['class_'].unique() , autopct='')\n",
    "plt.axis('equal')\n",
    "# plt.title('data distribution')\n",
    "for autotext in autotexts:\n",
    "    autotext.set_visible(False)"
   ]
  },
  {
   "cell_type": "code",
   "execution_count": 6,
   "id": "e37e2b87",
   "metadata": {
    "execution": {
     "iopub.execute_input": "2023-08-23T07:04:58.328253Z",
     "iopub.status.busy": "2023-08-23T07:04:58.327772Z",
     "iopub.status.idle": "2023-08-23T07:04:58.332887Z",
     "shell.execute_reply": "2023-08-23T07:04:58.332046Z"
    },
    "papermill": {
     "duration": 0.02987,
     "end_time": "2023-08-23T07:04:58.335805",
     "exception": false,
     "start_time": "2023-08-23T07:04:58.305935",
     "status": "completed"
    },
    "tags": []
   },
   "outputs": [],
   "source": [
    "# images=[]\n",
    "# labels=[]\n",
    "# for class_ in data['class_'].unique():\n",
    "#     image=(cv2.imread(data[data['class_']==class_].iloc[0][\"path\"]))\n",
    "#     image = cv2.cvtColor(image, cv2.COLOR_BGR2RGB)\n",
    "#     images.append(image)\n",
    "#     labels.append(data[data['class_']==class_].iloc[0][\"class_\"])\n",
    "    "
   ]
  },
  {
   "cell_type": "code",
   "execution_count": 7,
   "id": "a13eb59f",
   "metadata": {
    "execution": {
     "iopub.execute_input": "2023-08-23T07:04:58.367447Z",
     "iopub.status.busy": "2023-08-23T07:04:58.367169Z",
     "iopub.status.idle": "2023-08-23T07:04:58.371262Z",
     "shell.execute_reply": "2023-08-23T07:04:58.370310Z"
    },
    "papermill": {
     "duration": 0.017344,
     "end_time": "2023-08-23T07:04:58.373521",
     "exception": false,
     "start_time": "2023-08-23T07:04:58.356177",
     "status": "completed"
    },
    "tags": []
   },
   "outputs": [],
   "source": [
    "# fig, axes = plt.subplots(nrows=2, ncols=3, figsize=(6, 4))\n",
    "# for i, ax in enumerate(axes.flat):\n",
    "#     img = images[i]\n",
    "#     ax.imshow(img)\n",
    "#     ax.axis('off')\n",
    "#     ax.set_title(labels[i])\n",
    "\n",
    "\n",
    "# plt.tight_layout()\n",
    "\n",
    "# plt.show()"
   ]
  },
  {
   "cell_type": "markdown",
   "id": "964b1ff1",
   "metadata": {
    "papermill": {
     "duration": 0.00937,
     "end_time": "2023-08-23T07:04:58.392436",
     "exception": false,
     "start_time": "2023-08-23T07:04:58.383066",
     "status": "completed"
    },
    "tags": []
   },
   "source": [
    "# data deviding ratio : 70:10:20 for train:validatino:test"
   ]
  },
  {
   "cell_type": "code",
   "execution_count": 8,
   "id": "2bd4deed",
   "metadata": {
    "execution": {
     "iopub.execute_input": "2023-08-23T07:04:58.412794Z",
     "iopub.status.busy": "2023-08-23T07:04:58.412524Z",
     "iopub.status.idle": "2023-08-23T07:04:58.422825Z",
     "shell.execute_reply": "2023-08-23T07:04:58.422008Z"
    },
    "papermill": {
     "duration": 0.022727,
     "end_time": "2023-08-23T07:04:58.424773",
     "exception": false,
     "start_time": "2023-08-23T07:04:58.402046",
     "status": "completed"
    },
    "tags": []
   },
   "outputs": [],
   "source": [
    "n=len(data)\n",
    "train_last=int(0.7*n)\n",
    "valid_last=int(0.8*n)\n",
    "train=data[:train_last]\n",
    "validation=data[train_last:valid_last]\n",
    "test=data[valid_last:]\n",
    "test\n",
    "test.to_csv('test.csv',index=False)"
   ]
  },
  {
   "cell_type": "markdown",
   "id": "17bf3bdf",
   "metadata": {
    "papermill": {
     "duration": 0.009475,
     "end_time": "2023-08-23T07:04:58.443807",
     "exception": false,
     "start_time": "2023-08-23T07:04:58.434332",
     "status": "completed"
    },
    "tags": []
   },
   "source": [
    "# defining hyper-parameters"
   ]
  },
  {
   "cell_type": "code",
   "execution_count": 9,
   "id": "9f17211e",
   "metadata": {
    "execution": {
     "iopub.execute_input": "2023-08-23T07:04:58.463950Z",
     "iopub.status.busy": "2023-08-23T07:04:58.463676Z",
     "iopub.status.idle": "2023-08-23T07:04:58.467846Z",
     "shell.execute_reply": "2023-08-23T07:04:58.466885Z"
    },
    "papermill": {
     "duration": 0.016815,
     "end_time": "2023-08-23T07:04:58.470151",
     "exception": false,
     "start_time": "2023-08-23T07:04:58.453336",
     "status": "completed"
    },
    "tags": []
   },
   "outputs": [],
   "source": [
    "batch_size=16\n",
    "size=224 #image size\n",
    "epoch=20"
   ]
  },
  {
   "cell_type": "markdown",
   "id": "b55b5e27",
   "metadata": {
    "papermill": {
     "duration": 0.009342,
     "end_time": "2023-08-23T07:04:58.489234",
     "exception": false,
     "start_time": "2023-08-23T07:04:58.479892",
     "status": "completed"
    },
    "tags": []
   },
   "source": [
    "# Image Preprocessing"
   ]
  },
  {
   "cell_type": "code",
   "execution_count": 10,
   "id": "e31e5206",
   "metadata": {
    "execution": {
     "iopub.execute_input": "2023-08-23T07:04:58.509632Z",
     "iopub.status.busy": "2023-08-23T07:04:58.509376Z",
     "iopub.status.idle": "2023-08-23T07:04:58.519439Z",
     "shell.execute_reply": "2023-08-23T07:04:58.518651Z"
    },
    "papermill": {
     "duration": 0.022519,
     "end_time": "2023-08-23T07:04:58.521476",
     "exception": false,
     "start_time": "2023-08-23T07:04:58.498957",
     "status": "completed"
    },
    "tags": []
   },
   "outputs": [],
   "source": [
    "def roi_select(img):\n",
    "    grayscale = cv2.cvtColor(img, cv2.COLOR_BGR2GRAY)\n",
    "    _,thresholded = cv2.threshold(grayscale, 0, 255, cv2.THRESH_OTSU)\n",
    "    bbox = cv2.boundingRect(thresholded)\n",
    "    x, y, w, h = bbox\n",
    "    foreground = img[y:y+h, x:x+w]\n",
    "    return foreground\n",
    "def apply_adaptive_histogram_equalization(image, clip_limit=2.0, grid_size=(8, 8)):\n",
    "    gray_image = cv2.cvtColor(image, cv2.COLOR_RGB2GRAY)\n",
    "    clahe = cv2.createCLAHE(clipLimit=clip_limit, tileGridSize=grid_size)\n",
    "    ahe_image = clahe.apply(gray_image)\n",
    "    ahe_image_rgb = cv2.cvtColor(ahe_image, cv2.COLOR_GRAY2RGB)\n",
    "    return ahe_image_rgb\n",
    "\n",
    "def preprocess(img):\n",
    "    img = img.astype(\"uint8\")\n",
    "    img=apply_adaptive_histogram_equalization(roi_select(img))/255.0\n",
    "    return tf.image.resize(img,(size,size)).numpy()"
   ]
  },
  {
   "cell_type": "markdown",
   "id": "f74dff5b",
   "metadata": {
    "papermill": {
     "duration": 0.009323,
     "end_time": "2023-08-23T07:04:58.540276",
     "exception": false,
     "start_time": "2023-08-23T07:04:58.530953",
     "status": "completed"
    },
    "tags": []
   },
   "source": [
    "# defining generators"
   ]
  },
  {
   "cell_type": "code",
   "execution_count": 11,
   "id": "f21652c9",
   "metadata": {
    "execution": {
     "iopub.execute_input": "2023-08-23T07:04:58.560560Z",
     "iopub.status.busy": "2023-08-23T07:04:58.560303Z",
     "iopub.status.idle": "2023-08-23T07:04:59.083248Z",
     "shell.execute_reply": "2023-08-23T07:04:59.082134Z"
    },
    "papermill": {
     "duration": 0.535721,
     "end_time": "2023-08-23T07:04:59.085619",
     "exception": false,
     "start_time": "2023-08-23T07:04:58.549898",
     "status": "completed"
    },
    "tags": []
   },
   "outputs": [
    {
     "name": "stdout",
     "output_type": "stream",
     "text": [
      "Found 2144 validated image filenames belonging to 3 classes.\n"
     ]
    }
   ],
   "source": [
    "train_datagen = ImageDataGenerator(\n",
    "#     rescale=1.0 / 255,\n",
    "    preprocessing_function=preprocess,\n",
    "        rotation_range=40,\n",
    "    width_shift_range=0.2,\n",
    "    height_shift_range=0.2,\n",
    "    shear_range=0.2,\n",
    "    zoom_range=0.2,\n",
    "    horizontal_flip=True,\n",
    "    fill_mode=\"nearest\",\n",
    ")\n",
    "train_images = train_datagen.flow_from_dataframe(\n",
    "    dataframe=train,\n",
    "    x_col='path',\n",
    "    y_col='class_',\n",
    "    batch_size=batch_size,\n",
    "    target_size=(size, size),\n",
    "    color_mode='rgb',\n",
    "    class_mode='categorical',\n",
    "    shuffle=True,\n",
    "    seed=42,\n",
    ")"
   ]
  },
  {
   "cell_type": "code",
   "execution_count": 12,
   "id": "e89414f3",
   "metadata": {
    "execution": {
     "iopub.execute_input": "2023-08-23T07:04:59.109498Z",
     "iopub.status.busy": "2023-08-23T07:04:59.108941Z",
     "iopub.status.idle": "2023-08-23T07:04:59.216830Z",
     "shell.execute_reply": "2023-08-23T07:04:59.215795Z"
    },
    "papermill": {
     "duration": 0.12259,
     "end_time": "2023-08-23T07:04:59.219149",
     "exception": false,
     "start_time": "2023-08-23T07:04:59.096559",
     "status": "completed"
    },
    "tags": []
   },
   "outputs": [
    {
     "name": "stdout",
     "output_type": "stream",
     "text": [
      "Found 307 validated image filenames belonging to 3 classes.\n"
     ]
    }
   ],
   "source": [
    "validation_datagen = ImageDataGenerator(\n",
    "#     rescale=1.0 / 255,\n",
    "    preprocessing_function=preprocess,\n",
    "    fill_mode=\"nearest\",\n",
    ")\n",
    "validation_images = validation_datagen.flow_from_dataframe(\n",
    "    dataframe=validation,\n",
    "    x_col='path',\n",
    "    y_col='class_',\n",
    "    batch_size=batch_size,\n",
    "    target_size=(size, size),\n",
    "    color_mode='rgb',\n",
    "    class_mode='categorical',\n",
    "    shuffle=False,\n",
    "    seed=42,\n",
    ")"
   ]
  },
  {
   "cell_type": "code",
   "execution_count": 13,
   "id": "83898f62",
   "metadata": {
    "execution": {
     "iopub.execute_input": "2023-08-23T07:04:59.244298Z",
     "iopub.status.busy": "2023-08-23T07:04:59.243352Z",
     "iopub.status.idle": "2023-08-23T07:04:59.416017Z",
     "shell.execute_reply": "2023-08-23T07:04:59.415034Z"
    },
    "papermill": {
     "duration": 0.187567,
     "end_time": "2023-08-23T07:04:59.418331",
     "exception": false,
     "start_time": "2023-08-23T07:04:59.230764",
     "status": "completed"
    },
    "tags": []
   },
   "outputs": [
    {
     "name": "stdout",
     "output_type": "stream",
     "text": [
      "Found 613 validated image filenames belonging to 3 classes.\n"
     ]
    }
   ],
   "source": [
    "test_datagen = ImageDataGenerator(\n",
    "#     rescale=1.0 / 255,\n",
    "    preprocessing_function=preprocess,\n",
    ")\n",
    "test_images = validation_datagen.flow_from_dataframe(\n",
    "    dataframe=test,\n",
    "    x_col='path',\n",
    "    y_col='class_',\n",
    "    batch_size=batch_size,\n",
    "    target_size=(size, size),\n",
    "    color_mode='rgb',\n",
    "    class_mode='categorical',\n",
    "    shuffle=False,\n",
    "    seed=42,\n",
    ")"
   ]
  },
  {
   "cell_type": "code",
   "execution_count": 14,
   "id": "0b90292a",
   "metadata": {
    "execution": {
     "iopub.execute_input": "2023-08-23T07:04:59.443094Z",
     "iopub.status.busy": "2023-08-23T07:04:59.442184Z",
     "iopub.status.idle": "2023-08-23T07:04:59.453032Z",
     "shell.execute_reply": "2023-08-23T07:04:59.452131Z"
    },
    "papermill": {
     "duration": 0.025488,
     "end_time": "2023-08-23T07:04:59.455274",
     "exception": false,
     "start_time": "2023-08-23T07:04:59.429786",
     "status": "completed"
    },
    "tags": []
   },
   "outputs": [],
   "source": [
    "\n",
    "def non_local_block(input_layer):\n",
    "    # Calculate the dimensionality of the input features\n",
    "    dim_c = input_layer.shape[-1]\n",
    "    \n",
    "    # Calculate the self-attention maps\n",
    "    theta = Conv2D(filters=dim_c // 2, kernel_size=(1, 1))(input_layer)\n",
    "    phi = Conv2D(filters=dim_c // 2, kernel_size=(1, 1))(input_layer)\n",
    "    g = Conv2D(filters=dim_c // 2, kernel_size=(1, 1))(input_layer)\n",
    "    \n",
    "    theta = tf.reshape(theta, shape=(-1, theta.shape[1] * theta.shape[2], theta.shape[3]))\n",
    "    phi = tf.reshape(phi, shape=(-1, phi.shape[1] * phi.shape[2], phi.shape[3]))\n",
    "    g = tf.reshape(g, shape=(-1, g.shape[1] * g.shape[2], g.shape[3]))\n",
    "    \n",
    "    attention_weights = tf.nn.softmax(tf.matmul(theta, tf.transpose(phi, perm=[0, 2, 1])), axis=-1)\n",
    "    \n",
    "    # Compute the attended features\n",
    "    attended_features = tf.matmul(attention_weights, g)\n",
    "    attended_features = tf.reshape(attended_features, shape=(-1, input_layer.shape[1], input_layer.shape[2], dim_c // 2))\n",
    "    \n",
    "    # Project the attended features\n",
    "    projection = Conv2D(filters=dim_c, kernel_size=(1, 1))(attended_features)\n",
    "    \n",
    "    # Residual connection\n",
    "    output = Add()([input_layer, projection])\n",
    "    \n",
    "    return output"
   ]
  },
  {
   "cell_type": "markdown",
   "id": "770892a0",
   "metadata": {
    "papermill": {
     "duration": 0.011298,
     "end_time": "2023-08-23T07:04:59.477379",
     "exception": false,
     "start_time": "2023-08-23T07:04:59.466081",
     "status": "completed"
    },
    "tags": []
   },
   "source": [
    "# defining the model"
   ]
  },
  {
   "cell_type": "code",
   "execution_count": 15,
   "id": "30d2be01",
   "metadata": {
    "execution": {
     "iopub.execute_input": "2023-08-23T07:04:59.501107Z",
     "iopub.status.busy": "2023-08-23T07:04:59.500237Z",
     "iopub.status.idle": "2023-08-23T07:05:08.846652Z",
     "shell.execute_reply": "2023-08-23T07:05:08.845713Z"
    },
    "papermill": {
     "duration": 9.361001,
     "end_time": "2023-08-23T07:05:08.849221",
     "exception": false,
     "start_time": "2023-08-23T07:04:59.488220",
     "status": "completed"
    },
    "tags": []
   },
   "outputs": [
    {
     "name": "stdout",
     "output_type": "stream",
     "text": [
      "Downloading data from https://storage.googleapis.com/tensorflow/keras-applications/resnet/resnet152v2_weights_tf_dim_ordering_tf_kernels_notop.h5\n",
      "234545216/234545216 [==============================] - 1s 0us/step\n",
      "Downloading data from https://storage.googleapis.com/tensorflow/keras-applications/vgg16/vgg16_weights_tf_dim_ordering_tf_kernels_notop.h5\n",
      "58889256/58889256 [==============================] - 0s 0us/step\n"
     ]
    }
   ],
   "source": [
    "import tensorflow as tf\n",
    "from tensorflow.keras.applications import ResNet152V2, VGG16\n",
    "from tensorflow.keras.models import Sequential\n",
    "from tensorflow.keras.layers import Conv2D, Input\n",
    "\n",
    "\n",
    "inp=Input(shape=(size, size, 3))\n",
    "\n",
    "resnet = ResNet152V2(weights='imagenet', include_top=False, input_tensor=Input(shape=(size, size, 3)))\n",
    "for layer in resnet.layers:\n",
    "    layer.trainable = False\n",
    "\n",
    "vgg= VGG16(weights='imagenet', include_top=False, input_tensor=Input(shape=(size, size, 3)))\n",
    "for layer in vgg.layers:\n",
    "    layer.trainable = False  "
   ]
  },
  {
   "cell_type": "markdown",
   "id": "1fa8caad",
   "metadata": {
    "papermill": {
     "duration": 0.01248,
     "end_time": "2023-08-23T07:05:08.874622",
     "exception": false,
     "start_time": "2023-08-23T07:05:08.862142",
     "status": "completed"
    },
    "tags": []
   },
   "source": [
    "# Modifying VGG16"
   ]
  },
  {
   "cell_type": "code",
   "execution_count": 16,
   "id": "183df87a",
   "metadata": {
    "execution": {
     "iopub.execute_input": "2023-08-23T07:05:08.901131Z",
     "iopub.status.busy": "2023-08-23T07:05:08.900804Z",
     "iopub.status.idle": "2023-08-23T07:05:09.485741Z",
     "shell.execute_reply": "2023-08-23T07:05:09.484817Z"
    },
    "papermill": {
     "duration": 0.601347,
     "end_time": "2023-08-23T07:05:09.488324",
     "exception": false,
     "start_time": "2023-08-23T07:05:08.886977",
     "status": "completed"
    },
    "tags": []
   },
   "outputs": [],
   "source": [
    "\n",
    "from tensorflow.keras.layers import Conv2D, BatchNormalization, Activation, Add, Input, DepthwiseConv2D, GlobalAveragePooling2D, AveragePooling2D, Concatenate, MaxPooling2D\n",
    "\n",
    "\n",
    "x = inp\n",
    "blocks=[]\n",
    "for layer in vgg.layers:\n",
    "    x = layer(x)\n",
    "    if layer.name in ['block3_conv3', 'block4_conv3', 'block5_conv3']:\n",
    "        attention_output = non_local_block(x)\n",
    "        blocks.append(x)\n",
    "        x = tf.keras.layers.add([x, attention_output])\n",
    "\n",
    "st=8\n",
    "for idx, block in enumerate(blocks):\n",
    "    filters = block.shape[-1]\n",
    "    depthwise_conv = DepthwiseConv2D(kernel_size=(3, 3), padding='same')(block)\n",
    "    depthwise_sep_conv = Conv2D(128, kernel_size=(1, 1), padding='same', activation=\"selu\")(depthwise_conv)\n",
    "    bn = BatchNormalization()(depthwise_sep_conv)\n",
    "    pooled_block = MaxPooling2D((st,st))(bn)\n",
    "    st=st//2\n",
    "    blocks[idx] = pooled_block\n",
    "    \n",
    "blocks.append(x)\n",
    "x=tf.keras.layers.Concatenate()(blocks)\n",
    "vgg16=Model(inp,x)"
   ]
  },
  {
   "cell_type": "code",
   "execution_count": 17,
   "id": "a25e482a",
   "metadata": {
    "execution": {
     "iopub.execute_input": "2023-08-23T07:05:09.516460Z",
     "iopub.status.busy": "2023-08-23T07:05:09.514944Z",
     "iopub.status.idle": "2023-08-23T07:05:09.523278Z",
     "shell.execute_reply": "2023-08-23T07:05:09.522456Z"
    },
    "papermill": {
     "duration": 0.024072,
     "end_time": "2023-08-23T07:05:09.525233",
     "exception": false,
     "start_time": "2023-08-23T07:05:09.501161",
     "status": "completed"
    },
    "tags": []
   },
   "outputs": [],
   "source": [
    "from tensorflow.keras import layers\n",
    "\n",
    "def dual_attention_block(inputs, reduction_ratio=16):\n",
    "    # Channel Attention\n",
    "    channels = inputs.shape[-1]\n",
    "    x = layers.GlobalAveragePooling2D()(inputs)\n",
    "    x = layers.Dense(channels // reduction_ratio, activation='relu')(x)\n",
    "    x = layers.Dense(channels, activation='sigmoid')(x)\n",
    "    channel_attention = layers.Reshape((1, 1, channels))(x)\n",
    "    channel_attention = layers.multiply([inputs, channel_attention])\n",
    "\n",
    "\n",
    "    spatial_attention = layers.Conv2D(1, (1, 1), activation='sigmoid')(inputs)\n",
    "    spatial_attention = layers.multiply([inputs, spatial_attention])\n",
    "\n",
    "\n",
    "    attention = layers.add([channel_attention, spatial_attention])\n",
    "    \n",
    "    return attention"
   ]
  },
  {
   "cell_type": "code",
   "execution_count": 18,
   "id": "944a7397",
   "metadata": {
    "execution": {
     "iopub.execute_input": "2023-08-23T07:05:09.552303Z",
     "iopub.status.busy": "2023-08-23T07:05:09.551522Z",
     "iopub.status.idle": "2023-08-23T07:05:11.020811Z",
     "shell.execute_reply": "2023-08-23T07:05:11.019881Z"
    },
    "papermill": {
     "duration": 1.48525,
     "end_time": "2023-08-23T07:05:11.023149",
     "exception": false,
     "start_time": "2023-08-23T07:05:09.537899",
     "status": "completed"
    },
    "tags": []
   },
   "outputs": [],
   "source": [
    "from tensorflow.keras import regularizers\n",
    "from tensorflow.keras.layers import concatenate\n",
    "x1= resnet(inp)\n",
    "x2= vgg16(inp)\n",
    "x=concatenate([x1, x2])\n",
    "x=dual_attention_block(x)\n",
    "xd2=layers.Conv2D(128, (1, 1), activation='relu',name='2Dfeatures')(x)\n",
    "x1 = tf.keras.layers.GlobalAveragePooling2D()(xd2)\n",
    "#x2 = tf.keras.layers.GlobalMaxPooling2D()(xd2)\n",
    "#x=concatenate([x1, x2])\n",
    "x=tf.keras.layers.BatchNormalization(axis=-1, momentum=0.99, epsilon=0.001 )(x1)\n",
    "x=Dense(16,activation='relu')(x)\n",
    "x=Dropout(.2)(x)\n",
    "x=Dense(8,activation='relu')(x)\n",
    "x=Dropout(.2)(x)\n",
    "x=Dense(len(train_images.class_indices),activation='softmax')(x)\n",
    "model=Model(inp,x)"
   ]
  },
  {
   "cell_type": "code",
   "execution_count": 19,
   "id": "698371d2",
   "metadata": {
    "execution": {
     "iopub.execute_input": "2023-08-23T07:05:11.056622Z",
     "iopub.status.busy": "2023-08-23T07:05:11.054076Z",
     "iopub.status.idle": "2023-08-23T07:05:11.496446Z",
     "shell.execute_reply": "2023-08-23T07:05:11.495506Z"
    },
    "papermill": {
     "duration": 0.460506,
     "end_time": "2023-08-23T07:05:11.498844",
     "exception": false,
     "start_time": "2023-08-23T07:05:11.038338",
     "status": "completed"
    },
    "tags": []
   },
   "outputs": [
    {
     "name": "stdout",
     "output_type": "stream",
     "text": [
      "trainable parametres: 2829548 non trainable parametres: 73047360\n"
     ]
    }
   ],
   "source": [
    "trainable_params = sum([v.numpy().size for v in model.trainable_variables])\n",
    "non_trainable_params = sum([v.numpy().size for v in model.non_trainable_variables])\n",
    "print(\"trainable parametres: \"+ str(trainable_params) + \" non trainable parametres: \"+ str(non_trainable_params))"
   ]
  },
  {
   "cell_type": "code",
   "execution_count": 20,
   "id": "5e958879",
   "metadata": {
    "execution": {
     "iopub.execute_input": "2023-08-23T07:05:11.526016Z",
     "iopub.status.busy": "2023-08-23T07:05:11.525379Z",
     "iopub.status.idle": "2023-08-23T07:05:11.556719Z",
     "shell.execute_reply": "2023-08-23T07:05:11.555876Z"
    },
    "papermill": {
     "duration": 0.046823,
     "end_time": "2023-08-23T07:05:11.558779",
     "exception": false,
     "start_time": "2023-08-23T07:05:11.511956",
     "status": "completed"
    },
    "tags": []
   },
   "outputs": [],
   "source": [
    "model.compile(loss=\"categorical_crossentropy\",optimizer=tf.keras.optimizers.experimental.Adamax(),metrics=['accuracy'])"
   ]
  },
  {
   "cell_type": "code",
   "execution_count": 21,
   "id": "c5a8ed61",
   "metadata": {
    "execution": {
     "iopub.execute_input": "2023-08-23T07:05:11.585073Z",
     "iopub.status.busy": "2023-08-23T07:05:11.584804Z",
     "iopub.status.idle": "2023-08-23T08:17:37.346094Z",
     "shell.execute_reply": "2023-08-23T08:17:37.345012Z"
    },
    "papermill": {
     "duration": 4345.777123,
     "end_time": "2023-08-23T08:17:37.348633",
     "exception": false,
     "start_time": "2023-08-23T07:05:11.571510",
     "status": "completed"
    },
    "tags": []
   },
   "outputs": [
    {
     "name": "stdout",
     "output_type": "stream",
     "text": [
      "Epoch 1/50\n",
      "134/134 [==============================] - 142s 866ms/step - loss: 0.9568 - accuracy: 0.5700 - val_loss: 0.7774 - val_accuracy: 0.7264\n",
      "Epoch 2/50\n",
      "134/134 [==============================] - 81s 604ms/step - loss: 0.6791 - accuracy: 0.7048 - val_loss: 0.6037 - val_accuracy: 0.7883\n",
      "Epoch 3/50\n",
      "134/134 [==============================] - 80s 596ms/step - loss: 0.6197 - accuracy: 0.7169 - val_loss: 0.4867 - val_accuracy: 0.8371\n",
      "Epoch 4/50\n",
      "134/134 [==============================] - 81s 602ms/step - loss: 0.5625 - accuracy: 0.7388 - val_loss: 0.4459 - val_accuracy: 0.8241\n",
      "Epoch 5/50\n",
      "134/134 [==============================] - 80s 601ms/step - loss: 0.4980 - accuracy: 0.7799 - val_loss: 0.4506 - val_accuracy: 0.8274\n",
      "Epoch 6/50\n",
      "134/134 [==============================] - 81s 602ms/step - loss: 0.4739 - accuracy: 0.8060 - val_loss: 0.3965 - val_accuracy: 0.8274\n",
      "Epoch 7/50\n",
      "134/134 [==============================] - 81s 601ms/step - loss: 0.4479 - accuracy: 0.8111 - val_loss: 0.3713 - val_accuracy: 0.8534\n",
      "Epoch 8/50\n",
      "134/134 [==============================] - 81s 604ms/step - loss: 0.4362 - accuracy: 0.8134 - val_loss: 0.4100 - val_accuracy: 0.8339\n",
      "Epoch 9/50\n",
      "134/134 [==============================] - 81s 604ms/step - loss: 0.4181 - accuracy: 0.8270 - val_loss: 0.4901 - val_accuracy: 0.8306\n",
      "Epoch 10/50\n",
      "134/134 [==============================] - 80s 600ms/step - loss: 0.4047 - accuracy: 0.8316 - val_loss: 0.4030 - val_accuracy: 0.8078\n",
      "Epoch 11/50\n",
      "134/134 [==============================] - 81s 603ms/step - loss: 0.3789 - accuracy: 0.8438 - val_loss: 0.3252 - val_accuracy: 0.8730\n",
      "Epoch 12/50\n",
      "134/134 [==============================] - 81s 602ms/step - loss: 0.3785 - accuracy: 0.8493 - val_loss: 0.4456 - val_accuracy: 0.8176\n",
      "Epoch 13/50\n",
      "134/134 [==============================] - 81s 603ms/step - loss: 0.3657 - accuracy: 0.8568 - val_loss: 0.4202 - val_accuracy: 0.8176\n",
      "Epoch 14/50\n",
      "134/134 [==============================] - 80s 596ms/step - loss: 0.3668 - accuracy: 0.8507 - val_loss: 0.3220 - val_accuracy: 0.8567\n",
      "Epoch 15/50\n",
      "134/134 [==============================] - 81s 606ms/step - loss: 0.3436 - accuracy: 0.8563 - val_loss: 0.3643 - val_accuracy: 0.8208\n",
      "Epoch 16/50\n",
      "134/134 [==============================] - 80s 599ms/step - loss: 0.3383 - accuracy: 0.8685 - val_loss: 0.5169 - val_accuracy: 0.8241\n",
      "Epoch 17/50\n",
      "134/134 [==============================] - 81s 606ms/step - loss: 0.3144 - accuracy: 0.8815 - val_loss: 0.2894 - val_accuracy: 0.8827\n",
      "Epoch 18/50\n",
      "134/134 [==============================] - 81s 603ms/step - loss: 0.3368 - accuracy: 0.8731 - val_loss: 0.3348 - val_accuracy: 0.8436\n",
      "Epoch 19/50\n",
      "134/134 [==============================] - 81s 605ms/step - loss: 0.3108 - accuracy: 0.8815 - val_loss: 0.3782 - val_accuracy: 0.8502\n",
      "Epoch 20/50\n",
      "134/134 [==============================] - 81s 603ms/step - loss: 0.3038 - accuracy: 0.8759 - val_loss: 0.3509 - val_accuracy: 0.8664\n",
      "Epoch 21/50\n",
      "134/134 [==============================] - 84s 629ms/step - loss: 0.3043 - accuracy: 0.8895 - val_loss: 0.3327 - val_accuracy: 0.8827\n",
      "Epoch 22/50\n",
      "134/134 [==============================] - 81s 604ms/step - loss: 0.2966 - accuracy: 0.8871 - val_loss: 0.2798 - val_accuracy: 0.8762\n",
      "Epoch 23/50\n",
      "134/134 [==============================] - 81s 603ms/step - loss: 0.3035 - accuracy: 0.8857 - val_loss: 0.3581 - val_accuracy: 0.8599\n",
      "Epoch 24/50\n",
      "134/134 [==============================] - 81s 604ms/step - loss: 0.3231 - accuracy: 0.8890 - val_loss: 0.3312 - val_accuracy: 0.8697\n",
      "Epoch 25/50\n",
      "134/134 [==============================] - 80s 598ms/step - loss: 0.2749 - accuracy: 0.9044 - val_loss: 0.2675 - val_accuracy: 0.8893\n",
      "Epoch 26/50\n",
      "134/134 [==============================] - 81s 606ms/step - loss: 0.2993 - accuracy: 0.8983 - val_loss: 0.4082 - val_accuracy: 0.8664\n",
      "Epoch 27/50\n",
      "134/134 [==============================] - 81s 602ms/step - loss: 0.2749 - accuracy: 0.9039 - val_loss: 0.2844 - val_accuracy: 0.9023\n",
      "Epoch 28/50\n",
      "134/134 [==============================] - 81s 605ms/step - loss: 0.2677 - accuracy: 0.9118 - val_loss: 0.1883 - val_accuracy: 0.9218\n",
      "Epoch 29/50\n",
      "134/134 [==============================] - 80s 599ms/step - loss: 0.2807 - accuracy: 0.9044 - val_loss: 0.2407 - val_accuracy: 0.9186\n",
      "Epoch 30/50\n",
      "134/134 [==============================] - 82s 613ms/step - loss: 0.2663 - accuracy: 0.9016 - val_loss: 0.2755 - val_accuracy: 0.9055\n",
      "Epoch 31/50\n",
      "134/134 [==============================] - 83s 620ms/step - loss: 0.2523 - accuracy: 0.9137 - val_loss: 0.3035 - val_accuracy: 0.8762\n",
      "Epoch 32/50\n",
      "134/134 [==============================] - 82s 611ms/step - loss: 0.2552 - accuracy: 0.9044 - val_loss: 0.3813 - val_accuracy: 0.8632\n",
      "Epoch 33/50\n",
      "134/134 [==============================] - 83s 616ms/step - loss: 0.2771 - accuracy: 0.8983 - val_loss: 0.2298 - val_accuracy: 0.9186\n",
      "Epoch 34/50\n",
      "134/134 [==============================] - 83s 621ms/step - loss: 0.2324 - accuracy: 0.9114 - val_loss: 0.2517 - val_accuracy: 0.9153\n",
      "Epoch 35/50\n",
      "134/134 [==============================] - 83s 619ms/step - loss: 0.2380 - accuracy: 0.9123 - val_loss: 0.4249 - val_accuracy: 0.8664\n",
      "Epoch 36/50\n",
      "134/134 [==============================] - 83s 620ms/step - loss: 0.2435 - accuracy: 0.9067 - val_loss: 0.2351 - val_accuracy: 0.9218\n",
      "Epoch 37/50\n",
      "134/134 [==============================] - 83s 619ms/step - loss: 0.2420 - accuracy: 0.9160 - val_loss: 0.3988 - val_accuracy: 0.8664\n",
      "Epoch 38/50\n",
      "134/134 [==============================] - 83s 619ms/step - loss: 0.2333 - accuracy: 0.9207 - val_loss: 0.2375 - val_accuracy: 0.9055\n",
      "Epoch 39/50\n",
      "134/134 [==============================] - 83s 617ms/step - loss: 0.2360 - accuracy: 0.9221 - val_loss: 0.2632 - val_accuracy: 0.9186\n",
      "Epoch 40/50\n",
      "134/134 [==============================] - 83s 621ms/step - loss: 0.1979 - accuracy: 0.9254 - val_loss: 0.2237 - val_accuracy: 0.9218\n",
      "Epoch 41/50\n",
      "134/134 [==============================] - 83s 618ms/step - loss: 0.2236 - accuracy: 0.9244 - val_loss: 0.2336 - val_accuracy: 0.9218\n",
      "Epoch 42/50\n",
      "134/134 [==============================] - 84s 626ms/step - loss: 0.2183 - accuracy: 0.9296 - val_loss: 0.2686 - val_accuracy: 0.9186\n",
      "Epoch 43/50\n",
      "134/134 [==============================] - 84s 626ms/step - loss: 0.2198 - accuracy: 0.9230 - val_loss: 0.2555 - val_accuracy: 0.9121\n",
      "Epoch 44/50\n",
      "134/134 [==============================] - 83s 617ms/step - loss: 0.2191 - accuracy: 0.9174 - val_loss: 0.2615 - val_accuracy: 0.9121\n",
      "Epoch 45/50\n",
      "134/134 [==============================] - 84s 627ms/step - loss: 0.2172 - accuracy: 0.9226 - val_loss: 0.3105 - val_accuracy: 0.8958\n",
      "Epoch 46/50\n",
      "134/134 [==============================] - 84s 625ms/step - loss: 0.2319 - accuracy: 0.9188 - val_loss: 0.3326 - val_accuracy: 0.8795\n",
      "Epoch 47/50\n",
      "134/134 [==============================] - 84s 625ms/step - loss: 0.1996 - accuracy: 0.9277 - val_loss: 0.2550 - val_accuracy: 0.9121\n",
      "Epoch 48/50\n",
      "134/134 [==============================] - 84s 627ms/step - loss: 0.2114 - accuracy: 0.9212 - val_loss: 0.2149 - val_accuracy: 0.9349\n",
      "Epoch 49/50\n",
      "134/134 [==============================] - 83s 616ms/step - loss: 0.1826 - accuracy: 0.9384 - val_loss: 0.2066 - val_accuracy: 0.9251\n",
      "Epoch 50/50\n",
      "134/134 [==============================] - 84s 625ms/step - loss: 0.2305 - accuracy: 0.9179 - val_loss: 0.2601 - val_accuracy: 0.9186\n"
     ]
    }
   ],
   "source": [
    "history = model.fit(\n",
    "    train_images,\n",
    "    validation_data=validation_images, \n",
    "    epochs=50,\n",
    ")"
   ]
  },
  {
   "cell_type": "code",
   "execution_count": 22,
   "id": "a5350522",
   "metadata": {
    "execution": {
     "iopub.execute_input": "2023-08-23T08:17:38.490446Z",
     "iopub.status.busy": "2023-08-23T08:17:38.490079Z",
     "iopub.status.idle": "2023-08-23T08:17:39.921928Z",
     "shell.execute_reply": "2023-08-23T08:17:39.920919Z"
    },
    "papermill": {
     "duration": 2.039013,
     "end_time": "2023-08-23T08:17:39.924457",
     "exception": false,
     "start_time": "2023-08-23T08:17:37.885444",
     "status": "completed"
    },
    "tags": []
   },
   "outputs": [],
   "source": [
    "model.save('model.h5')"
   ]
  },
  {
   "cell_type": "code",
   "execution_count": 23,
   "id": "2d7e2f11",
   "metadata": {
    "execution": {
     "iopub.execute_input": "2023-08-23T08:17:40.985740Z",
     "iopub.status.busy": "2023-08-23T08:17:40.985366Z",
     "iopub.status.idle": "2023-08-23T08:17:41.268147Z",
     "shell.execute_reply": "2023-08-23T08:17:41.267123Z"
    },
    "papermill": {
     "duration": 0.819269,
     "end_time": "2023-08-23T08:17:41.270290",
     "exception": false,
     "start_time": "2023-08-23T08:17:40.451021",
     "status": "completed"
    },
    "tags": []
   },
   "outputs": [
    {
     "data": {
      "text/plain": [
       "Text(0, 0.5, 'accuracy')"
      ]
     },
     "execution_count": 23,
     "metadata": {},
     "output_type": "execute_result"
    },
    {
     "data": {
      "image/png": "[encoded data removed]",
      "text/plain": [
       "<Figure size 640x480 with 1 Axes>"
      ]
     },
     "metadata": {},
     "output_type": "display_data"
    }
   ],
   "source": [
    "epochs = list(range(len(history.history['accuracy'])))\n",
    "train_acc = history.history['accuracy']\n",
    "train_loss = history.history['val_accuracy']\n",
    "plt.plot(train_acc)\n",
    "plt.plot(train_loss)\n",
    "plt.legend(['train-accuracy','validation-accuracy'], loc='best')\n",
    "plt.xlabel('epoch')\n",
    "plt.ylabel('accuracy')"
   ]
  },
  {
   "cell_type": "code",
   "execution_count": 24,
   "id": "758d4bae",
   "metadata": {
    "execution": {
     "iopub.execute_input": "2023-08-23T08:17:42.414203Z",
     "iopub.status.busy": "2023-08-23T08:17:42.413428Z",
     "iopub.status.idle": "2023-08-23T08:17:42.691695Z",
     "shell.execute_reply": "2023-08-23T08:17:42.690597Z"
    },
    "papermill": {
     "duration": 0.881489,
     "end_time": "2023-08-23T08:17:42.694048",
     "exception": false,
     "start_time": "2023-08-23T08:17:41.812559",
     "status": "completed"
    },
    "tags": []
   },
   "outputs": [
    {
     "data": {
      "text/plain": [
       "Text(0, 0.5, 'loss')"
      ]
     },
     "execution_count": 24,
     "metadata": {},
     "output_type": "execute_result"
    },
    {
     "data": {
      "image/png": "[encoded data removed]",
      "text/plain": [
       "<Figure size 640x480 with 1 Axes>"
      ]
     },
     "metadata": {},
     "output_type": "display_data"
    }
   ],
   "source": [
    "epochs = list(range(len(history.history['accuracy'])))\n",
    "train_acc = history.history['loss']\n",
    "train_loss = history.history['val_loss']\n",
    "plt.plot(train_acc)\n",
    "plt.plot(train_loss)\n",
    "plt.legend(['train-loss','validation-loss'], loc='best')\n",
    "# plt.show()\n",
    "plt.xlabel('epoch')\n",
    "plt.ylabel('loss')"
   ]
  },
  {
   "cell_type": "markdown",
   "id": "cd5f9b00",
   "metadata": {
    "papermill": {
     "duration": 0.536591,
     "end_time": "2023-08-23T08:17:43.781708",
     "exception": false,
     "start_time": "2023-08-23T08:17:43.245117",
     "status": "completed"
    },
    "tags": []
   },
   "source": [
    "# Results "
   ]
  },
  {
   "cell_type": "code",
   "execution_count": 25,
   "id": "a647e1c3",
   "metadata": {
    "execution": {
     "iopub.execute_input": "2023-08-23T08:17:44.853432Z",
     "iopub.status.busy": "2023-08-23T08:17:44.853069Z",
     "iopub.status.idle": "2023-08-23T08:18:10.639008Z",
     "shell.execute_reply": "2023-08-23T08:18:10.637868Z"
    },
    "papermill": {
     "duration": 26.326011,
     "end_time": "2023-08-23T08:18:10.641411",
     "exception": false,
     "start_time": "2023-08-23T08:17:44.315400",
     "status": "completed"
    },
    "tags": []
   },
   "outputs": [
    {
     "name": "stdout",
     "output_type": "stream",
     "text": [
      "39/39 [==============================] - 24s 545ms/step\n",
      "acc:  0.9216965742251223\n",
      "preci:  0.9139854852003628\n",
      "recall:  0.9141317399345569\n",
      "f1:  0.9120757452206215\n",
      "mcc:  0.878806678345562\n"
     ]
    }
   ],
   "source": [
    "from sklearn.metrics import accuracy_score,precision_score,recall_score,f1_score,matthews_corrcoef\n",
    "proba=model.predict(test_images)\n",
    "predicted = np.argmax(proba,axis=1)\n",
    "true=test_images.labels\n",
    "print(\"acc: \", accuracy_score(predicted, true))\n",
    "print(\"preci: \", precision_score(predicted, true,average='macro'))\n",
    "print(\"recall: \", recall_score(predicted, true,average='macro'))\n",
    "print(\"f1: \", f1_score(predicted, true,average='macro'))\n",
    "print(\"mcc: \", matthews_corrcoef(predicted, true))"
   ]
  },
  {
   "cell_type": "code",
   "execution_count": 26,
   "id": "9fdc6eff",
   "metadata": {
    "execution": {
     "iopub.execute_input": "2023-08-23T08:18:11.782339Z",
     "iopub.status.busy": "2023-08-23T08:18:11.781968Z",
     "iopub.status.idle": "2023-08-23T08:18:12.292425Z",
     "shell.execute_reply": "2023-08-23T08:18:12.291506Z"
    },
    "papermill": {
     "duration": 1.113835,
     "end_time": "2023-08-23T08:18:12.294615",
     "exception": false,
     "start_time": "2023-08-23T08:18:11.180780",
     "status": "completed"
    },
    "tags": []
   },
   "outputs": [
    {
     "data": {
      "image/png": "[encoded data removed]",
      "text/plain": [
       "<Figure size 600x500 with 2 Axes>"
      ]
     },
     "metadata": {},
     "output_type": "display_data"
    }
   ],
   "source": [
    "from sklearn.metrics import confusion_matrix\n",
    "import seaborn as sns\n",
    "class_=test_images.class_indices.keys()\n",
    "cm = confusion_matrix(true, predicted)\n",
    "fig = plt.figure(figsize=(6, 5))\n",
    "ax= plt.subplot()\n",
    "sns.heatmap(cm, annot=True, ax = ax,cmap=\"Blues\",  fmt='g'); \n",
    "ax.set_xlabel('Predicted', fontsize=12)\n",
    "ax.xaxis.set_label_position('bottom')\n",
    "plt.xticks(rotation=90)\n",
    "ax.xaxis.set_ticklabels(class_, fontsize = 10)\n",
    "ax.xaxis.tick_bottom()\n",
    "\n",
    "ax.set_ylabel('True', fontsize=12)\n",
    "ax.yaxis.set_ticklabels(class_, fontsize = 10)\n",
    "plt.yticks(rotation=0)\n",
    "\n",
    "plt.title('', fontsize=60)\n",
    "\n",
    "plt.savefig('ConMat24.png')\n",
    "plt.show()"
   ]
  },
  {
   "cell_type": "code",
   "execution_count": 27,
   "id": "7c904a86",
   "metadata": {
    "execution": {
     "iopub.execute_input": "2023-08-23T08:18:13.605019Z",
     "iopub.status.busy": "2023-08-23T08:18:13.604649Z",
     "iopub.status.idle": "2023-08-23T08:18:13.907090Z",
     "shell.execute_reply": "2023-08-23T08:18:13.906196Z"
    },
    "papermill": {
     "duration": 0.963145,
     "end_time": "2023-08-23T08:18:13.909432",
     "exception": false,
     "start_time": "2023-08-23T08:18:12.946287",
     "status": "completed"
    },
    "tags": []
   },
   "outputs": [
    {
     "data": {
      "image/png": "[encoded data removed]",
      "text/plain": [
       "<Figure size 600x500 with 1 Axes>"
      ]
     },
     "metadata": {},
     "output_type": "display_data"
    }
   ],
   "source": [
    "from sklearn.metrics import roc_curve, roc_auc_score\n",
    "from matplotlib import cm\n",
    "n=len(true)\n",
    "dim=max(true)+1\n",
    "result=[]\n",
    "for i in true:\n",
    "    result.append([0 for i in range(dim)])\n",
    "    result[len(result)-1][i]=1\n",
    "    \n",
    "    \n",
    "fpr = dict()\n",
    "tpr = dict()\n",
    "roc_auc = dict()\n",
    "n_classes =len(test_images.class_indices.keys())\n",
    "y_test=np.array(result)\n",
    "y_pred=np.array(proba)\n",
    "fpr = dict()\n",
    "tpr = dict()\n",
    "roc_auc = dict()\n",
    "\n",
    "rev={}\n",
    "for i in class_:\n",
    "    rev[train_images.class_indices[i]]=i\n",
    "\n",
    "\n",
    "for i in range(n_classes):\n",
    "    fpr[i], tpr[i], _ = roc_curve(y_test[:, i], y_pred[:, i])\n",
    "    roc_auc[i] = roc_auc_score(y_test[:, i], y_pred[:, i])\n",
    "\n",
    "\n",
    "fpr[\"micro\"], tpr[\"micro\"], _ = roc_curve(y_test.ravel(), y_pred.ravel())\n",
    "roc_auc[\"micro\"] = roc_auc_score(y_test, y_pred, multi_class='ovr')\n",
    "\n",
    "\n",
    "cmap = cm.get_cmap('tab10')\n",
    "\n",
    "# Plot the ROC curve for each class and micro-average with automatic color selection\n",
    "plt.figure(figsize=(6,5))\n",
    "lw = 1\n",
    "for i in range(n_classes):\n",
    "    color = cmap(i)\n",
    "    plt.plot(fpr[i], tpr[i], color=color, lw=lw,\n",
    "             label='{0} (area = {1:0.2f})'\n",
    "             ''.format(rev[i], roc_auc[i]))\n",
    "\n",
    "plt.plot(fpr[\"micro\"], tpr[\"micro\"],\n",
    "         label='micro-average ROC curve (area = {0:0.2f})'\n",
    "         ''.format(roc_auc[\"micro\"]),\n",
    "         color=cmap(n_classes), linestyle=':', linewidth=4)\n",
    "\n",
    "plt.plot([0, 1], [0, 1], 'k--', lw=lw)\n",
    "plt.xlim([-0.1, 1.2])\n",
    "plt.ylim([-0.1, 1.2])\n",
    "plt.xlabel('False Positive Rate')\n",
    "plt.ylabel('True Positive Rate')\n",
    "plt.title('ROC Curve')\n",
    "plt.legend(loc=\"lower right\")\n",
    "plt.show()"
   ]
  }
 ],
 "metadata": {
  "kernelspec": {
   "display_name": "Python 3",
   "language": "python",
   "name": "python3"
  },
  "language_info": {
   "codemirror_mode": {
    "name": "ipython",
    "version": 3
   },
   "file_extension": ".py",
   "mimetype": "text/x-python",
   "name": "python",
   "nbconvert_exporter": "python",
   "pygments_lexer": "ipython3",
   "version": "3.10.10"
  },
  "papermill": {
   "default_parameters": {},
   "duration": 4418.37044,
   "end_time": "2023-08-23T08:18:17.591391",
   "environment_variables": {},
   "exception": null,
   "input_path": "__notebook__.ipynb",
   "output_path": "__notebook__.ipynb",
   "parameters": {},
   "start_time": "2023-08-23T07:04:39.220951",
   "version": "2.4.0"
  }
 },
 "nbformat": 4,
 "nbformat_minor": 5
}
